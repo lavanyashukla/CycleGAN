{
  "nbformat": 4,
  "nbformat_minor": 0,
  "metadata": {
    "accelerator": "GPU",
    "colab": {
      "name": "SpaceInvaders_Baseline_Model (3).ipynb",
      "provenance": [],
      "collapsed_sections": [],
      "include_colab_link": true
    },
    "kernelspec": {
      "display_name": "Python 3",
      "language": "python",
      "name": "python3"
    },
    "language_info": {
      "codemirror_mode": {
        "name": "ipython",
        "version": 3
      },
      "file_extension": ".py",
      "mimetype": "text/x-python",
      "name": "python",
      "nbconvert_exporter": "python",
      "pygments_lexer": "ipython3",
      "version": "3.7.3"
    }
  },
  "cells": [
    {
      "cell_type": "markdown",
      "metadata": {
        "id": "view-in-github",
        "colab_type": "text"
      },
      "source": [
        "<a href=\"https://colab.research.google.com/github/lavanyashukla/CycleGAN/blob/master/SpaceInvaders_Baseline_Model_(3).ipynb\" target=\"_parent\"><img src=\"https://colab.research.google.com/assets/colab-badge.svg\" alt=\"Open In Colab\"/></a>"
      ]
    },
    {
      "cell_type": "markdown",
      "metadata": {
        "colab_type": "text",
        "id": "KfOuv88IHJTV"
      },
      "source": [
        "# Space Invaders\n",
        "\n"
      ]
    },
    {
      "cell_type": "code",
      "metadata": {
        "colab_type": "code",
        "id": "o-uAdQfWkjIh",
        "outputId": "1972d90b-84bc-48ca-f929-88d21f61f5a5",
        "colab": {
          "base_uri": "https://localhost:8080/",
          "height": 51
        }
      },
      "source": [
        "!pip install wandb -qq\n",
        "!pip install gym pyvirtualdisplay -qq\n",
        "!apt-get install -y xvfb python-opengl ffmpeg -qq\n",
        "!pip install xdpyinfo -qq\n",
        "\n",
        "!apt-get update -qq\n",
        "!apt-get install cmake -qq\n",
        "!pip install --upgrade setuptools -qq\n",
        "!pip install ez_setup -qq"
      ],
      "execution_count": 0,
      "outputs": [
        {
          "output_type": "stream",
          "text": [
            "\u001b[31mERROR: Could not find a version that satisfies the requirement xdpyinfo (from versions: none)\u001b[0m\n",
            "\u001b[31mERROR: No matching distribution found for xdpyinfo\u001b[0m\n"
          ],
          "name": "stdout"
        }
      ]
    },
    {
      "cell_type": "code",
      "metadata": {
        "colab_type": "code",
        "id": "ms0B7dnLHJTc",
        "outputId": "d28a30ed-eaed-4b42-edda-99ea89f5cfd1",
        "colab": {
          "base_uri": "https://localhost:8080/",
          "height": 63
        }
      },
      "source": [
        "import gym\n",
        "from gym import logger as gymlogger\n",
        "from gym.wrappers import Monitor\n",
        "gymlogger.set_level(30)\n",
        "\n",
        "import numpy as np\n",
        "import random\n",
        "import math\n",
        "import glob\n",
        "import io\n",
        "import base64\n",
        "import tensorflow as tf\n",
        "import matplotlib\n",
        "import matplotlib.pyplot as plt\n",
        "%matplotlib inline\n",
        "from datetime import datetime\n",
        "\n",
        "from IPython.display import HTML\n",
        "from IPython import display as ipythondisplay\n",
        "from pyvirtualdisplay import Display\n",
        "\n",
        "# import wandb\n",
        "import wandb"
      ],
      "execution_count": 0,
      "outputs": [
        {
          "output_type": "display_data",
          "data": {
            "text/html": [
              "<p style=\"color: red;\">\n",
              "The default version of TensorFlow in Colab will soon switch to TensorFlow 2.x.<br>\n",
              "We recommend you <a href=\"https://www.tensorflow.org/guide/migrate\" target=\"_blank\">upgrade</a> now \n",
              "or ensure your notebook will continue to use TensorFlow 1.x via the <code>%tensorflow_version 1.x</code> magic:\n",
              "<a href=\"https://colab.research.google.com/notebooks/tensorflow_version.ipynb\" target=\"_blank\">more info</a>.</p>\n"
            ],
            "text/plain": [
              "<IPython.core.display.HTML object>"
            ]
          },
          "metadata": {
            "tags": []
          }
        }
      ]
    },
    {
      "cell_type": "markdown",
      "metadata": {
        "colab_type": "text",
        "collapsed": true,
        "id": "wXDlF6cdHJTj"
      },
      "source": [
        "## Preprocessing - crop images, convert them to 1D black and white image tensors\n",
        "\n",
        "- Image dimensions - (210, 160, 3)\n",
        "- Output dimensions - (88, 80, 1)\n"
      ]
    },
    {
      "cell_type": "code",
      "metadata": {
        "colab_type": "code",
        "id": "29CSBYkPHJTl",
        "colab": {}
      },
      "source": [
        "color = np.array([210, 164, 74]).mean()\n",
        "\n",
        "def preprocess_frame(obs):\n",
        "    # Crop and resize\n",
        "    img = obs[25:201:2, ::2]\n",
        "\n",
        "    # Convert to greyscale\n",
        "    img = img.mean(axis=2)\n",
        "\n",
        "    # Improve contrast\n",
        "    img[img==color] = 0\n",
        "\n",
        "    # Normalzie image\n",
        "    img = (img - 128) / 128 - 1\n",
        "\n",
        "    # Reshape to 80*80*1\n",
        "    img = img.reshape(88,80)\n",
        "\n",
        "    return img "
      ],
      "execution_count": 0,
      "outputs": []
    },
    {
      "cell_type": "markdown",
      "metadata": {
        "colab_type": "text",
        "id": "Y1qZntlnHJTs"
      },
      "source": [
        "## Initialize gym environment and explore game screens\n"
      ]
    },
    {
      "cell_type": "code",
      "metadata": {
        "id": "S4nYnj42iYY1",
        "colab_type": "code",
        "outputId": "0c23b727-0f07-4e0f-d26c-927b679aa94e",
        "colab": {
          "base_uri": "https://localhost:8080/",
          "height": 34
        }
      },
      "source": [
        "env = gym.make(\"SpaceInvaders-v0\")\n",
        "print(\"Actions available(%d): %r\"%(env.action_space.n, env.env.get_action_meanings()))"
      ],
      "execution_count": 0,
      "outputs": [
        {
          "output_type": "stream",
          "text": [
            "Actions available(6): ['NOOP', 'FIRE', 'RIGHT', 'LEFT', 'RIGHTFIRE', 'LEFTFIRE']\n"
          ],
          "name": "stdout"
        }
      ]
    },
    {
      "cell_type": "code",
      "metadata": {
        "colab_type": "code",
        "id": "jnbrjWstHJTu",
        "outputId": "1f4c425b-a482-4a89-a62a-67258767bae2",
        "colab": {
          "base_uri": "https://localhost:8080/",
          "height": 269
        }
      },
      "source": [
        "observation = env.reset()\n",
        "# Game Screen\n",
        "for i in range(11):\n",
        "  if i > 9:\n",
        "    plt.imshow(observation)\n",
        "    plt.show()\n",
        "  observation, _, _, _ = env.step(1)"
      ],
      "execution_count": 0,
      "outputs": [
        {
          "output_type": "display_data",
          "data": {
            "image/png": "[encoded data removed]",
            "text/plain": [
              "<Figure size 432x288 with 1 Axes>"
            ]
          },
          "metadata": {
            "tags": []
          }
        }
      ]
    },
    {
      "cell_type": "code",
      "metadata": {
        "colab_type": "code",
        "id": "_Ma31y4wFpst",
        "outputId": "427115b1-c72c-4f40-e453-1cd863783402",
        "colab": {
          "base_uri": "https://localhost:8080/",
          "height": 268
        }
      },
      "source": [
        "# Preprocessed Game Screen\n",
        "obs_preprocessed = preprocess_frame(observation).reshape(88,80)\n",
        "plt.imshow(obs_preprocessed)\n",
        "plt.show()"
      ],
      "execution_count": 0,
      "outputs": [
        {
          "output_type": "display_data",
          "data": {
            "image/png": "[encoded data removed]",
            "text/plain": [
              "<Figure size 432x288 with 1 Axes>"
            ]
          },
          "metadata": {
            "tags": []
          }
        }
      ]
    },
    {
      "cell_type": "markdown",
      "metadata": {
        "id": "2tXWpRTdirOQ",
        "colab_type": "text"
      },
      "source": [
        "## Play Game"
      ]
    },
    {
      "cell_type": "markdown",
      "metadata": {
        "id": "wjcpwUfqjBrE",
        "colab_type": "text"
      },
      "source": [
        "### Play a random game, log reward and gameplay video in wandb"
      ]
    },
    {
      "cell_type": "code",
      "metadata": {
        "id": "I9Hwt7z_jB14",
        "colab_type": "code",
        "colab": {}
      },
      "source": [
        "# initialize a new wandb run\n",
        "wandb.init(project=\"qualcomm\")\n",
        "\n",
        "# define hyperparameters\n",
        "wandb.config.episodes = 100\n",
        "wandb.config.batch_size = 48\n",
        "wandb.config.learning_rate = 0.001\n",
        "input_shape = (None, 88, 80, 1)\n",
        "\n",
        "# record gameplay video\n",
        "display = Display(visible=0, size=(1400, 900))\n",
        "display.start()\n",
        "\n",
        "# reward across episodes\n",
        "cumulative_reward = 0\n",
        "\n",
        "# run for 100 episodes\n",
        "for i in range(wandb.config.episodes):\n",
        "  # Set reward received in this episode = 0 at the start of the episode\n",
        "  episodic_reward = 0\n",
        "\n",
        "  # record a video of the game using wrapper\n",
        "  env = gym.wrappers.Monitor(env, './video', force=True)\n",
        "  \n",
        "  episode = i+1\n",
        "  print(\"Episode: %d\"%(episode))\n",
        "  \n",
        "  # play a random game\n",
        "  state = env.reset()\n",
        "  done = False\n",
        "  while not done:\n",
        "    # take random action\n",
        "    # ****TODO: replace this with model prediction****\n",
        "    action = env.action_space.sample()\n",
        "\n",
        "    # perform the action and fetch next state, reward\n",
        "    state, reward, done, _ = env.step(action)\n",
        "\n",
        "    episodic_reward += reward\n",
        "  \n",
        "  # log total reward received in this episode to wandb\n",
        "  wandb.log({'episodic_reward': episodic_reward})\n",
        "\n",
        "  # add reward from this episode to cumulative_reward\n",
        "  cumulative_reward += episodic_reward\n",
        "\n",
        "  # calculate the cumulative_avg_reward\n",
        "  # this is the metric your models will be evaluated on\n",
        "  cumulative_avg_reward = cumulative_reward/episode\n",
        "\n",
        "  # log cumulative_avg_reward over episodes to wandb\n",
        "  wandb.log({'cumulative_avg_reward': cumulative_avg_reward})\n",
        "\n",
        "  # your models will be evaluated on 100-episode average reward\n",
        "  # therefore, we stop logging after 100 episodes\n",
        "  if (episode > 100):\n",
        "    break\n",
        "\n",
        "  record_video = False\n",
        "  env.close() \n",
        "\n",
        "  # render gameplay video\n",
        "  mp4list = glob.glob('video/*.mp4')\n",
        "  if len(mp4list) > 0:\n",
        "    print(len(mp4list))\n",
        "    mp4 = mp4list[-1]\n",
        "    video = io.open(mp4, 'r+b').read()\n",
        "    encoded = base64.b64encode(video)\n",
        "\n",
        "    # log gameplay video in wandb\n",
        "    wandb.log({\"gameplays\": wandb.Video(mp4, fps=4, format=\"gif\")})\n",
        "\n",
        "    # display gameplay video\n",
        "    ipythondisplay.display(HTML(data='''<video alt=\"test\" autoplay \n",
        "                loop controls style=\"height: 400px;\">\n",
        "                <source src=\"data:video/mp4;base64,{0}\" type=\"video/mp4\" />\n",
        "            </video>'''.format(encoded.decode('ascii'))))"
      ],
      "execution_count": 0,
      "outputs": []
    },
    {
      "cell_type": "code",
      "metadata": {
        "colab_type": "code",
        "id": "OKk22m-0CbEs",
        "colab": {}
      },
      "source": [
        ""
      ],
      "execution_count": 0,
      "outputs": []
    }
  ]
}