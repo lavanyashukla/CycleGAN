{
  "nbformat": 4,
  "nbformat_minor": 0,
  "metadata": {
    "colab": {
      "name": "Emotion Classifier - The Setup.ipynb",
      "provenance": [],
      "collapsed_sections": [],
      "include_colab_link": true
    },
    "kernelspec": {
      "name": "python3",
      "display_name": "Python 3.6",
      "language": "python"
    },
    "accelerator": "GPU",
    "language_info": {
      "name": "python",
      "version": "3.6.9",
      "mimetype": "text/x-python",
      "codemirror_mode": {
        "name": "ipython",
        "version": 3
      },
      "pygments_lexer": "ipython3",
      "nbconvert_exporter": "python",
      "file_extension": ".py"
    }
  },
  "cells": [
    {
      "cell_type": "markdown",
      "metadata": {
        "id": "view-in-github",
        "colab_type": "text"
      },
      "source": [
        "<a href=\"https://colab.research.google.com/github/lavanyashukla/CycleGAN/blob/master/Emotion%20Classifier%20-%20The%20Setup.ipynb\" target=\"_parent\"><img src=\"https://colab.research.google.com/assets/colab-badge.svg\" alt=\"Open In Colab\"/></a>"
      ]
    },
    {
      "cell_type": "markdown",
      "metadata": {
        "id": "83pM76LxfXP8",
        "colab_type": "text"
      },
      "source": [
        "# Emotion Classifier - The Setup\n",
        "\n",
        "# Welcome!\n",
        "In this notebook we'll train an emotion classifier and deploy it to a tensorflow js frontend.  The first step is setting up the environment.\n",
        "\n",
        "We’ll also set up Weights & Biases to log models metrics, inspect performance and share findings about the best architecture for the network. In this example we're using Google Colab as a convenient hosted environment, but you can run your own training scripts from anywhere and visualize metrics with W&B's experiment tracking tool.\n",
        "\n",
        "### Running This Notebook\n",
        "1. Click \"Open in playground\" to create a copy of this notebook for yourself.\n",
        "2. Save a copy in Google Drive for yourself.\n",
        "3. To enable a GPU, please click Edit > Notebook Settings. Change the \"hardware accelerator\" to GPU.\n",
        "4. Step through each section below, pressing play on the code blocks to run the cells.\n",
        "\n",
        "Results will be logged to a [shared W&B project page](https://app.wandb.ai/wandb/feb8-emotion).\n",
        "\n",
        "We highly encourage you to fork this notebook, tweak the parameters, or try the model with your own dataset!"
      ]
    },
    {
      "cell_type": "code",
      "metadata": {
        "id": "716z63DMfWoq",
        "colab_type": "code",
        "outputId": "ab4da41b-0c13-4458-f3f0-5772dd22b27d",
        "colab": {
          "base_uri": "https://localhost:8080/",
          "height": 646
        }
      },
      "source": [
        "# Install wandb\n",
        "!pip install -qq wandb\n",
        "!pip install opencv-python\n",
        "!pip install tensorflow\n",
        "!pip install portpicker"
      ],
      "execution_count": 1,
      "outputs": [
        {
          "output_type": "stream",
          "text": [
            "\u001b[K     |████████████████████████████████| 1.4MB 3.5MB/s \n",
            "\u001b[K     |████████████████████████████████| 102kB 10.7MB/s \n",
            "\u001b[K     |████████████████████████████████| 102kB 9.9MB/s \n",
            "\u001b[K     |████████████████████████████████| 460kB 20.6MB/s \n",
            "\u001b[K     |████████████████████████████████| 102kB 11.2MB/s \n",
            "\u001b[K     |████████████████████████████████| 71kB 8.7MB/s \n",
            "\u001b[K     |████████████████████████████████| 71kB 9.7MB/s \n",
            "\u001b[?25h  Building wheel for shortuuid (setup.py) ... \u001b[?25l\u001b[?25hdone\n",
            "  Building wheel for watchdog (setup.py) ... \u001b[?25l\u001b[?25hdone\n",
            "  Building wheel for gql (setup.py) ... \u001b[?25l\u001b[?25hdone\n",
            "  Building wheel for subprocess32 (setup.py) ... \u001b[?25l\u001b[?25hdone\n",
            "  Building wheel for pathtools (setup.py) ... \u001b[?25l\u001b[?25hdone\n",
            "  Building wheel for graphql-core (setup.py) ... \u001b[?25l\u001b[?25hdone\n",
            "Requirement already satisfied: opencv-python in /usr/local/lib/python3.6/dist-packages (4.1.2.30)\n",
            "Requirement already satisfied: numpy>=1.11.3 in /usr/local/lib/python3.6/dist-packages (from opencv-python) (1.17.5)\n",
            "Requirement already satisfied: tensorflow in /usr/local/lib/python3.6/dist-packages (1.15.0)\n",
            "Requirement already satisfied: keras-preprocessing>=1.0.5 in /usr/local/lib/python3.6/dist-packages (from tensorflow) (1.1.0)\n",
            "Requirement already satisfied: gast==0.2.2 in /usr/local/lib/python3.6/dist-packages (from tensorflow) (0.2.2)\n",
            "Requirement already satisfied: grpcio>=1.8.6 in /usr/local/lib/python3.6/dist-packages (from tensorflow) (1.15.0)\n",
            "Requirement already satisfied: keras-applications>=1.0.8 in /usr/local/lib/python3.6/dist-packages (from tensorflow) (1.0.8)\n",
            "Requirement already satisfied: numpy<2.0,>=1.16.0 in /usr/local/lib/python3.6/dist-packages (from tensorflow) (1.17.5)\n",
            "Requirement already satisfied: wheel>=0.26 in /usr/local/lib/python3.6/dist-packages (from tensorflow) (0.34.2)\n",
            "Requirement already satisfied: astor>=0.6.0 in /usr/local/lib/python3.6/dist-packages (from tensorflow) (0.8.1)\n",
            "Requirement already satisfied: termcolor>=1.1.0 in /usr/local/lib/python3.6/dist-packages (from tensorflow) (1.1.0)\n",
            "Requirement already satisfied: wrapt>=1.11.1 in /usr/local/lib/python3.6/dist-packages (from tensorflow) (1.11.2)\n",
            "Requirement already satisfied: absl-py>=0.7.0 in /usr/local/lib/python3.6/dist-packages (from tensorflow) (0.9.0)\n",
            "Requirement already satisfied: opt-einsum>=2.3.2 in /usr/local/lib/python3.6/dist-packages (from tensorflow) (3.1.0)\n",
            "Requirement already satisfied: google-pasta>=0.1.6 in /usr/local/lib/python3.6/dist-packages (from tensorflow) (0.1.8)\n",
            "Requirement already satisfied: protobuf>=3.6.1 in /usr/local/lib/python3.6/dist-packages (from tensorflow) (3.10.0)\n",
            "Requirement already satisfied: tensorflow-estimator==1.15.1 in /usr/local/lib/python3.6/dist-packages (from tensorflow) (1.15.1)\n",
            "Requirement already satisfied: tensorboard<1.16.0,>=1.15.0 in /usr/local/lib/python3.6/dist-packages (from tensorflow) (1.15.0)\n",
            "Requirement already satisfied: six>=1.10.0 in /usr/local/lib/python3.6/dist-packages (from tensorflow) (1.12.0)\n",
            "Requirement already satisfied: h5py in /usr/local/lib/python3.6/dist-packages (from keras-applications>=1.0.8->tensorflow) (2.8.0)\n",
            "Requirement already satisfied: setuptools in /usr/local/lib/python3.6/dist-packages (from protobuf>=3.6.1->tensorflow) (45.1.0)\n",
            "Requirement already satisfied: markdown>=2.6.8 in /usr/local/lib/python3.6/dist-packages (from tensorboard<1.16.0,>=1.15.0->tensorflow) (3.1.1)\n",
            "Requirement already satisfied: werkzeug>=0.11.15 in /usr/local/lib/python3.6/dist-packages (from tensorboard<1.16.0,>=1.15.0->tensorflow) (0.16.1)\n",
            "Requirement already satisfied: portpicker in /usr/local/lib/python3.6/dist-packages (1.2.0)\n"
          ],
          "name": "stdout"
        }
      ]
    },
    {
      "cell_type": "code",
      "metadata": {
        "id": "UdQHTvMTfs1c",
        "colab_type": "code",
        "colab": {}
      },
      "source": [
        "#import libraries\n",
        "import warnings\n",
        "warnings.filterwarnings('ignore')\n",
        "import pandas as pd\n",
        "import numpy as np\n",
        "import cv2\n",
        "import subprocess\n",
        "import os\n",
        "import time\n",
        "import wandb\n",
        "os.environ['WANDB_NOTEBOOK_NAME'] = 'EmotionClassifier'"
      ],
      "execution_count": 0,
      "outputs": []
    },
    {
      "cell_type": "markdown",
      "metadata": {
        "id": "m6vgqwva0PKy",
        "colab_type": "text"
      },
      "source": [
        "## Load the fer2013 grayscale face emotion dataset\n",
        "\n",
        "https://www.kaggle.com/c/challenges-in-representation-learning-facial-expression-recognition-challenge/data\n",
        "\n",
        "We manually do an 80/20 train-test split and cache the data to disk."
      ]
    },
    {
      "cell_type": "code",
      "metadata": {
        "id": "ujDGNN-FgNBa",
        "colab_type": "code",
        "colab": {}
      },
      "source": [
        "def load_fer2013(force=False):\n",
        "    \"\"\"Load the emotion dataset\"\"\"\n",
        "    if force or not os.path.exists(\"fer2013\"):\n",
        "        print(\"Downloading the face emotion dataset...\")\n",
        "        subprocess.check_output(\n",
        "            \"curl -SL https://www.dropbox.com/s/opuvvdv3uligypx/fer2013.tar | tar xz\", shell=True)\n",
        "    print(\"Loading dataset...\")\n",
        "    if not os.path.exists('face_cache.npz'):\n",
        "        data = pd.read_csv(\"fer2013/fer2013.csv\")\n",
        "        pixels = data['pixels'].tolist()\n",
        "        width, height = 48, 48\n",
        "        faces = []\n",
        "        for pixel_sequence in pixels:\n",
        "            pixs = pixel_sequence.split(' ')\n",
        "            try:\n",
        "                face = np.asarray(pixel_sequence.split(\n",
        "                    ' '), dtype=np.uint8).reshape(width, height)\n",
        "                face = cv2.resize(face.astype('uint8'), (width, height))\n",
        "                faces.append(face.astype('float32'))\n",
        "            except ValueError:\n",
        "              print(\"Unable to load face.\")\n",
        "\n",
        "        faces = np.asarray(faces)\n",
        "        faces = np.expand_dims(faces, -1)\n",
        "        emotions = pd.get_dummies(data['emotion']).as_matrix()\n",
        "\n",
        "        val_faces = faces[int(len(faces) * 0.8):]\n",
        "        val_emotions = emotions[int(len(faces) * 0.8):]\n",
        "        train_faces = faces[:int(len(faces) * 0.8)]\n",
        "        train_emotions = emotions[:int(len(faces) * 0.8)]\n",
        "        np.savez('face_cache.npz', train_faces=train_faces, train_emotions=train_emotions,\n",
        "                 val_faces=val_faces, val_emotions=val_emotions)\n",
        "    cached = np.load('face_cache.npz')\n",
        "\n",
        "    return cached['train_faces'], cached['train_emotions'], cached['val_faces'], cached['val_emotions']"
      ],
      "execution_count": 0,
      "outputs": []
    },
    {
      "cell_type": "markdown",
      "metadata": {
        "id": "ihedxZW-364Y",
        "colab_type": "text"
      },
      "source": [
        "# Deep Learning\n",
        "\n",
        "We define a train() function with default inputs.  In the second cell we manually call training and convert the keras model into a tensorflow js model."
      ]
    },
    {
      "cell_type": "code",
      "metadata": {
        "id": "u-E_wuM4gR9e",
        "colab_type": "code",
        "colab": {}
      },
      "source": [
        "# Set default hyperparameters\n",
        "default_config = {\n",
        "    \"learning_rate\": 0.001,\n",
        "    \"batch_size\": 32,\n",
        "    \"num_epochs\": 10,\n",
        "    \"dropout\": 0.2\n",
        "}\n",
        "def train():\n",
        "  \"\"\"Train an emotion classifier using wandb.config as input\"\"\"\n",
        "  import tensorflow as tf\n",
        "  import wandb\n",
        "  tf.keras.backend.clear_session()\n",
        "  # Inititialize W&B with default config options\n",
        "  wandb.init(entity=\"wandb\", project=\"feb8-emotion\", config=default_config)\n",
        "  config = wandb.config\n",
        "  print(dict(config))\n",
        "  \n",
        "  # Load dataset\n",
        "  input_shape = (48, 48, 1)\n",
        "  train_faces, train_emotions, val_faces, val_emotions = load_fer2013()\n",
        "  num_samples, num_classes = train_emotions.shape\n",
        "  \n",
        "  # Normalize data\n",
        "  train_faces /= 255.\n",
        "  val_faces /= 255.\n",
        "  \n",
        "  # Define the model\n",
        "  optimizer = tf.keras.optimizers.Adam(lr=config.learning_rate)\n",
        "  #model = tf.keras.applications.mobilenet_v2.MobileNetV2(input_shape=input_shape, include_top=False)\n",
        "\n",
        "  model = tf.keras.Sequential()\n",
        "  '''\n",
        "  # Set of Conv2D, Conv2D, MaxPooling2D layers with 32 and 64 filters\n",
        "  model.add(tf.keras.layers.Conv2D(filters = 32, kernel_size = (3, 3), padding = 'same', \n",
        "                    activation ='relu', input_shape = input_shape))\n",
        "  model.add(tf.keras.layers.Dropout(0.3))\n",
        "\n",
        "  model.add(tf.keras.layers.Conv2D(filters = 64, kernel_size = (3, 3), padding = 'same', \n",
        "                    activation ='relu'))\n",
        "  model.add(tf.keras.layers.MaxPooling2D(pool_size=(2, 2)))\n",
        "\n",
        "  model.add(tf.keras.layers.Flatten())\n",
        "  '''\n",
        "\n",
        "  model.add(tf.keras.layers.Flatten(input_shape=input_shape))\n",
        "  \n",
        "  model.add(tf.keras.layers.Dense(128, activation=\"relu\"))\n",
        "  model.add(tf.keras.layers.Dropout(0.4))\n",
        "  model.add(tf.keras.layers.Dense(num_classes, activation=\"softmax\"))\n",
        "  model.compile(optimizer=optimizer, loss='categorical_crossentropy',\n",
        "                metrics=['accuracy'])\n",
        "\n",
        "  # Save extra hyperparameter\n",
        "  config.total_params = model.count_params()\n",
        "    \n",
        "  # Train the model\n",
        "  model.fit(train_faces, train_emotions, batch_size=config.batch_size,\n",
        "            epochs=config.num_epochs, verbose=1, callbacks=[\n",
        "                wandb.keras.WandbCallback(data_type=\"image\", labels=[\n",
        "                              \"Angry\", \"Disgust\", \"Fear\", \"Happy\", \"Sad\", \"Surprise\", \"Neutral\"])\n",
        "            ], validation_data=(val_faces, val_emotions))\n",
        "\n",
        "  # Save the model locally\n",
        "  model.save(\"emotion.h5\")"
      ],
      "execution_count": 0,
      "outputs": []
    },
    {
      "cell_type": "code",
      "metadata": {
        "id": "Ndvq2qYv66Ot",
        "colab_type": "code",
        "outputId": "fc9671e1-0625-41a9-e5ca-a8f96735158c",
        "colab": {
          "base_uri": "https://localhost:8080/",
          "height": 627
        }
      },
      "source": [
        "# Train the model\n",
        "train()"
      ],
      "execution_count": 5,
      "outputs": [
        {
          "output_type": "display_data",
          "data": {
            "text/html": [
              "<p style=\"color: red;\">\n",
              "The default version of TensorFlow in Colab will soon switch to TensorFlow 2.x.<br>\n",
              "We recommend you <a href=\"https://www.tensorflow.org/guide/migrate\" target=\"_blank\">upgrade</a> now \n",
              "or ensure your notebook will continue to use TensorFlow 1.x via the <code>%tensorflow_version 1.x</code> magic:\n",
              "<a href=\"https://colab.research.google.com/notebooks/tensorflow_version.ipynb\" target=\"_blank\">more info</a>.</p>\n"
            ],
            "text/plain": [
              "<IPython.core.display.HTML object>"
            ]
          },
          "metadata": {
            "tags": []
          }
        },
        {
          "output_type": "display_data",
          "data": {
            "application/javascript": [
              "\n",
              "        window._wandbApiKey = new Promise((resolve, reject) => {\n",
              "            function loadScript(url) {\n",
              "            return new Promise(function(resolve, reject) {\n",
              "                let newScript = document.createElement(\"script\");\n",
              "                newScript.onerror = reject;\n",
              "                newScript.onload = resolve;\n",
              "                document.body.appendChild(newScript);\n",
              "                newScript.src = url;\n",
              "            });\n",
              "            }\n",
              "            loadScript(\"https://cdn.jsdelivr.net/npm/postmate/build/postmate.min.js\").then(() => {\n",
              "            const iframe = document.createElement('iframe')\n",
              "            iframe.style.cssText = \"width:0;height:0;border:none\"\n",
              "            document.body.appendChild(iframe)\n",
              "            const handshake = new Postmate({\n",
              "                container: iframe,\n",
              "                url: 'https://app.wandb.ai/authorize'\n",
              "            });\n",
              "            const timeout = setTimeout(() => reject(\"Couldn't auto authenticate\"), 5000)\n",
              "            handshake.then(function(child) {\n",
              "                child.on('authorize', data => {\n",
              "                    clearTimeout(timeout)\n",
              "                    resolve(data)\n",
              "                });\n",
              "            });\n",
              "            })\n",
              "        });\n",
              "    "
            ],
            "text/plain": [
              "<IPython.core.display.Javascript object>"
            ]
          },
          "metadata": {
            "tags": []
          }
        },
        {
          "output_type": "stream",
          "text": [
            "wandb: Appending key for api.wandb.ai to your netrc file: /root/.netrc\n"
          ],
          "name": "stderr"
        },
        {
          "output_type": "display_data",
          "data": {
            "text/html": [
              "\n",
              "                Logging results to <a href=\"https://wandb.com\" target=\"_blank\">Weights & Biases</a> <a href=\"https://docs.wandb.com/integrations/jupyter.html\" target=\"_blank\">(Documentation)</a>.<br/>\n",
              "                Project page: <a href=\"https://app.wandb.ai/wandb/feb8-emotion\" target=\"_blank\">https://app.wandb.ai/wandb/feb8-emotion</a><br/>\n",
              "                Run page: <a href=\"https://app.wandb.ai/wandb/feb8-emotion/runs/i8ix8tbi\" target=\"_blank\">https://app.wandb.ai/wandb/feb8-emotion/runs/i8ix8tbi</a><br/>\n",
              "            "
            ],
            "text/plain": [
              "<IPython.core.display.HTML object>"
            ]
          },
          "metadata": {
            "tags": []
          }
        },
        {
          "output_type": "stream",
          "text": [
            "{'learning_rate': 0.001, 'batch_size': 32, 'num_epochs': 10, 'dropout': 0.2}\n",
            "Downloading the face emotion dataset...\n",
            "Loading dataset...\n",
            "WARNING:tensorflow:From /usr/local/lib/python3.6/dist-packages/tensorflow_core/python/ops/resource_variable_ops.py:1630: calling BaseResourceVariable.__init__ (from tensorflow.python.ops.resource_variable_ops) with constraint is deprecated and will be removed in a future version.\n",
            "Instructions for updating:\n",
            "If using Keras pass *_constraint arguments to layers.\n",
            "Train on 28709 samples, validate on 7178 samples\n",
            "Epoch 1/10\n",
            "28709/28709 [==============================] - 5s 173us/sample - loss: 1.8390 - acc: 0.2457 - val_loss: 1.8019 - val_acc: 0.2471\n",
            "Epoch 2/10\n",
            "28709/28709 [==============================] - 3s 115us/sample - loss: 1.8009 - acc: 0.2514 - val_loss: 1.7695 - val_acc: 0.2471\n",
            "Epoch 3/10\n",
            "28709/28709 [==============================] - 3s 113us/sample - loss: 1.7814 - acc: 0.2516 - val_loss: 1.7785 - val_acc: 0.2473\n",
            "Epoch 4/10\n",
            "28709/28709 [==============================] - 3s 111us/sample - loss: 1.7814 - acc: 0.2518 - val_loss: 1.7500 - val_acc: 0.2473\n",
            "Epoch 5/10\n",
            "28709/28709 [==============================] - 3s 108us/sample - loss: 1.7734 - acc: 0.2515 - val_loss: 1.7508 - val_acc: 0.2474\n",
            "Epoch 6/10\n",
            "28709/28709 [==============================] - 3s 114us/sample - loss: 1.7717 - acc: 0.2527 - val_loss: 1.7590 - val_acc: 0.2891\n",
            "Epoch 7/10\n",
            "28709/28709 [==============================] - 3s 108us/sample - loss: 1.7709 - acc: 0.2536 - val_loss: 1.7415 - val_acc: 0.2474\n",
            "Epoch 8/10\n",
            "28709/28709 [==============================] - 3s 108us/sample - loss: 1.7652 - acc: 0.2578 - val_loss: 1.7418 - val_acc: 0.2871\n",
            "Epoch 9/10\n",
            "28709/28709 [==============================] - 3s 111us/sample - loss: 1.7669 - acc: 0.2584 - val_loss: 1.7397 - val_acc: 0.2577\n",
            "Epoch 10/10\n",
            "28709/28709 [==============================] - 3s 115us/sample - loss: 1.7630 - acc: 0.2586 - val_loss: 1.7591 - val_acc: 0.2839\n"
          ],
          "name": "stdout"
        }
      ]
    },
    {
      "cell_type": "markdown",
      "metadata": {
        "id": "yRbQA5Zw55Yr",
        "colab_type": "text"
      },
      "source": [
        "# Setup & serve the frontend\n",
        "\n",
        "We're downloading and serving a pre-built React application from [github](https://github.com/vanpelt/emotion-detector)"
      ]
    },
    {
      "cell_type": "code",
      "metadata": {
        "id": "UhAYYxTzo9vA",
        "colab_type": "code",
        "colab": {}
      },
      "source": [
        "# Download the frontend build\n",
        "!rm -rf build\n",
        "!wget -q https://github.com/vanpelt/emotion-detector/releases/download/stable/frontend.zip\n",
        "!unzip -q frontend.zip"
      ],
      "execution_count": 0,
      "outputs": []
    },
    {
      "cell_type": "code",
      "metadata": {
        "id": "6IMdxcE3aRZF",
        "colab_type": "code",
        "outputId": "0a481988-0fa4-4cd5-cc35-41070660b116",
        "colab": {
          "base_uri": "https://localhost:8080/",
          "height": 714
        }
      },
      "source": [
        "# Install tensorflowjs in a virtualenv\n",
        "%pip install -q virtualenv\n",
        "!virtualenv --no-site-packages venv && . venv/bin/activate && pip install -q tensorflowjs"
      ],
      "execution_count": 7,
      "outputs": [
        {
          "output_type": "stream",
          "text": [
            "\u001b[K     |████████████████████████████████| 3.4MB 3.5MB/s \n",
            "\u001b[?25hUsing base prefix '/usr'\n",
            "New python executable in /content/venv/bin/python3\n",
            "Also creating executable in /content/venv/bin/python\n",
            "Installing setuptools, pip, wheel...\n",
            "done.\n",
            "\u001b[K     |████████████████████████████████| 56 kB 2.0 MB/s \n",
            "\u001b[K     |████████████████████████████████| 20.1 MB 19 kB/s \n",
            "\u001b[K     |████████████████████████████████| 104.6 MB 49 kB/s \n",
            "\u001b[K     |████████████████████████████████| 2.9 MB 52.5 MB/s \n",
            "\u001b[K     |████████████████████████████████| 89 kB 11.2 MB/s \n",
            "\u001b[K     |████████████████████████████████| 248 kB 61.4 MB/s \n",
            "\u001b[K     |████████████████████████████████| 896 kB 50.8 MB/s \n",
            "\u001b[K     |████████████████████████████████| 689 kB 46.8 MB/s \n",
            "\u001b[K     |████████████████████████████████| 26.1 MB 13 kB/s \n",
            "\u001b[K     |████████████████████████████████| 57 kB 4.8 MB/s \n",
            "\u001b[K     |████████████████████████████████| 69 kB 8.3 MB/s \n",
            "\u001b[K     |████████████████████████████████| 41 kB 890 kB/s \n",
            "\u001b[K     |████████████████████████████████| 448 kB 64.1 MB/s \n",
            "\u001b[K     |████████████████████████████████| 2.7 MB 49.6 MB/s \n",
            "\u001b[K     |████████████████████████████████| 1.3 MB 47.7 MB/s \n",
            "\u001b[K     |████████████████████████████████| 3.8 MB 46.1 MB/s \n",
            "\u001b[K     |████████████████████████████████| 50 kB 7.9 MB/s \n",
            "\u001b[K     |████████████████████████████████| 104 kB 74.3 MB/s \n",
            "\u001b[K     |████████████████████████████████| 88 kB 10.4 MB/s \n",
            "\u001b[K     |████████████████████████████████| 76 kB 6.6 MB/s \n",
            "\u001b[K     |████████████████████████████████| 298 kB 68.4 MB/s \n",
            "\u001b[K     |████████████████████████████████| 57 kB 6.6 MB/s \n",
            "\u001b[K     |████████████████████████████████| 155 kB 83.9 MB/s \n",
            "\u001b[K     |████████████████████████████████| 133 kB 76.7 MB/s \n",
            "\u001b[K     |████████████████████████████████| 125 kB 82.1 MB/s \n",
            "\u001b[K     |████████████████████████████████| 156 kB 79.5 MB/s \n",
            "\u001b[K     |████████████████████████████████| 58 kB 8.0 MB/s \n",
            "\u001b[K     |████████████████████████████████| 147 kB 68.2 MB/s \n",
            "\u001b[K     |████████████████████████████████| 77 kB 7.2 MB/s \n",
            "\u001b[?25h  Building wheel for PyInquirer (setup.py) ... \u001b[?25l\u001b[?25hdone\n",
            "  Building wheel for gast (setup.py) ... \u001b[?25l\u001b[?25hdone\n",
            "  Building wheel for wrapt (setup.py) ... \u001b[?25l\u001b[?25hdone\n",
            "  Building wheel for opt-einsum (setup.py) ... \u001b[?25l\u001b[?25hdone\n",
            "  Building wheel for termcolor (setup.py) ... \u001b[?25l\u001b[?25hdone\n",
            "  Building wheel for absl-py (setup.py) ... \u001b[?25l\u001b[?25hdone\n"
          ],
          "name": "stdout"
        }
      ]
    },
    {
      "cell_type": "code",
      "metadata": {
        "id": "qBYv-QDl2f4G",
        "colab_type": "code",
        "colab": {}
      },
      "source": [
        "# Quantize our trained model\n",
        "!. venv/bin/activate && tensorflowjs_converter --input_format keras --quantization_bytes 2 emotion.h5 build/models"
      ],
      "execution_count": 0,
      "outputs": []
    },
    {
      "cell_type": "code",
      "metadata": {
        "id": "hRpqPdPQp1OK",
        "colab_type": "code",
        "colab": {}
      },
      "source": [
        "# Serve our custom UI\n",
        "from subprocess import Popen\n",
        "import portpicker\n",
        "try:\n",
        "  server.kill()\n",
        "except NameError:\n",
        "  pass\n",
        "port = portpicker.pick_unused_port()\n",
        "server = Popen([\"cd ./build && python -m http.server %i\" % port], shell=True,\n",
        "               stdin=None, stdout=None, stderr=None, close_fds=True)"
      ],
      "execution_count": 0,
      "outputs": []
    },
    {
      "cell_type": "code",
      "metadata": {
        "id": "H3kHfhxpj3PE",
        "colab_type": "code",
        "colab": {}
      },
      "source": [
        "#Setup the interface for display\n",
        "import IPython\n",
        "html = open(\"./build/index.html\").read()\n",
        "body = html.replace('=\"/', '=\"https://localhost:{}/'.format(port),10)\n",
        "body = body.replace(\"</head>\", '<script type=\"text/javascript\"/>window.BASE_URL = \"https://localhost:{}/\";google.colab.output.setIframeHeight(600)</script></head>'.format(port))\n",
        "display(IPython.display.HTML(body))"
      ],
      "execution_count": 0,
      "outputs": []
    },
    {
      "cell_type": "code",
      "metadata": {
        "id": "qbFBh3PE97j8",
        "colab_type": "code",
        "colab": {}
      },
      "source": [
        ""
      ],
      "execution_count": 0,
      "outputs": []
    }
  ]
}